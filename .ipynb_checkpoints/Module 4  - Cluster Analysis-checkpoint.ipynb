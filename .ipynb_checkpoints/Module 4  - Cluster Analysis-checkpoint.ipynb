{
 "cells": [
  {
   "cell_type": "markdown",
   "metadata": {},
   "source": [
    "<h1 style=\"font-size:42px; text-align:center; margin-bottom:30px;\"><span style=\"color:SteelBlue\">Module 4:</span> Cluster Analysis</h1>\n",
    "<hr>\n",
    "\n",
    "Welcome to <span style=\"color:royalblue\">Module 4: Cluster Analysis</span>!\n",
    "\n",
    "At last, it's time to build our clustering models!\n",
    "\n",
    "\n",
    "For clustering problems, the chosen input features are usually more important than which algorithm you use.\n",
    "* In this module, we'll apply the K-Means algorithm to 3 different feature sets.\n",
    "* There are no clear, widely-accepted performance metrics for clusters because there're no \"ground truth\" labels.\n",
    "* Even so, we can compare the different clusters created from the 3 different feature sets.\n",
    "\n",
    "<br><hr id=\"toc\">\n",
    "\n",
    "### In this module...\n",
    "\n",
    "In this module, we'll cover:\n",
    "1. [K-Means](#k-means)\n",
    "2. [Base features](#base)\n",
    "3. [Threshold features](#threshold)\n",
    "4. [PCA features](#pca)\n",
    "5. [Model comparison](#comparison)\n",
    "\n",
    "\n",
    "<br><hr>"
   ]
  },
  {
   "cell_type": "markdown",
   "metadata": {},
   "source": [
    "### First, let's import libraries and load the datasets.\n",
    "\n",
    "First, import libraries that you'll need."
   ]
  },
  {
   "cell_type": "code",
   "execution_count": 1,
   "metadata": {},
   "outputs": [],
   "source": [
    "# print_function for compatibility with Python 3\n",
    "\n",
    "\n",
    "# NumPy for numerical computing\n",
    "import numpy as np\n",
    "\n",
    "# Pandas for DataFrames\n",
    "import pandas as pd\n",
    "pd.set_option('display.max_columns',100)\n",
    "\n",
    "# Matplotlib for visualization\n",
    "from matplotlib import pyplot as plt\n",
    "\n",
    "# display plots in the notebook\n",
    "%matplotlib inline\n",
    "\n",
    "# Seaborn for easier visualization\n",
    "import seaborn as sns\n",
    "\n",
    "# Scikit-Learn's make_pipeline function\n",
    "from sklearn.pipeline import make_pipeline\n",
    "\n",
    "# Scikit-Learn's StandardScaler\n",
    "from sklearn.preprocessing import StandardScaler\n",
    "\n",
    "# Scikit-Learn's KMeans algorithm (added later)\n",
    "\n"
   ]
  },
  {
   "cell_type": "markdown",
   "metadata": {},
   "source": [
    "**Next, let's import 3 CSV files we've saved throughout this project.**\n",
    "* Let's import <code style=\"color:crimson\">'analytical_base_table.csv'</code> (created in Module 1) as <code style=\"color:steelblue\">base_df</code>. \n",
    "* Let's import <code style=\"color:crimson\">'threshold_item_data.csv'</code> (created in Module 2) as <code style=\"color:steelblue\">threshold_item_data</code>. \n",
    "* Let's import <code style=\"color:crimson\">'pca_item_data.csv'</code> (created in Module 3) as <code style=\"color:steelblue\">pca_item_data</code>. \n",
    "* Set <code style=\"color:steelblue\">index_col=0</code> for each one to use CustomerID as the index."
   ]
  },
  {
   "cell_type": "code",
   "execution_count": 2,
   "metadata": {},
   "outputs": [],
   "source": [
    "# Import analytical base table\n",
    "base_df = pd.read_csv('analytical_base_table.csv',index_col=0)\n",
    "\n",
    "# Import thresholded item features\n",
    "threshold_item_data = pd.read_csv('threshold_item_data.csv',index_col=0)\n",
    "\n",
    "# Import PCA item features\n",
    "pca_item_data = pd.read_csv('pca_item_data.csv',index_col=0)\n"
   ]
  },
  {
   "cell_type": "markdown",
   "metadata": {},
   "source": [
    "**Print the shape of each one to make sure we're on the same page.**"
   ]
  },
  {
   "cell_type": "code",
   "execution_count": null,
   "metadata": {},
   "outputs": [],
   "source": [
    "# Print shape of each dataframe\n",
    "\n"
   ]
  },
  {
   "cell_type": "markdown",
   "metadata": {},
   "source": [
    "<span id=\"k-means\"></span>\n",
    "# 1. K-Means\n",
    "\n",
    "For clustering, which algorithm you choose is typically less important than the **input features** that you feed into it. \n",
    "\n",
    "<br>\n",
    "**We already have a <code style=\"color:steelblue\">base_df</code>.** \n",
    "\n",
    "**Create a <code style=\"color:steelblue\">threshold_df</code> by joining it with <code style=\"color:steelblue\">threshold_item_data</code>.**\n",
    "* Then, display the first 5 rows of the new dataframe."
   ]
  },
  {
   "cell_type": "code",
   "execution_count": null,
   "metadata": {},
   "outputs": [],
   "source": [
    "# Join base_df with threshold_item_data\n",
    "\n",
    "\n",
    "# Display first 5 rows of threshold_df\n"
   ]
  },
  {
   "cell_type": "markdown",
   "metadata": {},
   "source": [
    "**Create a <code style=\"color:steelblue\">pca_df</code> by joining <code style=\"color:steelblue\">base_df</code> with <code style=\"color:steelblue\">pca_item_data</code>.**\n",
    "* Then, display the first 5 rows of the new dataframe."
   ]
  },
  {
   "cell_type": "code",
   "execution_count": null,
   "metadata": {},
   "outputs": [],
   "source": [
    "# Join base_df with pca_item_data\n",
    "\n",
    "\n",
    "# Display first 5 rows of pca_df\n"
   ]
  },
  {
   "cell_type": "markdown",
   "metadata": {},
   "source": [
    "**Before moving on, add this import to your library imports above. Then, re-run that code cell.**\n",
    "\n",
    "<pre style=\"color:steelblue\">\n",
    "from sklearn.cluster import KMeans\n",
    "</pre>"
   ]
  },
  {
   "cell_type": "markdown",
   "metadata": {},
   "source": [
    "<p style=\"text-align:center; margin: 40px 0 40px 0; font-weight:bold\">\n",
    "<a href=\"#toc\">Back to Contents</a>\n",
    "</p>"
   ]
  },
  {
   "cell_type": "markdown",
   "metadata": {},
   "source": [
    "<span id=\"base\"></span>\n",
    "# 2. Base DF\n",
    "\n",
    "The first set of features we'll consider is **\"Base DF\"**. \n",
    "* This only includes the purchase pattern features from our analytical base table.\n",
    "\n",
    "<br>\n",
    "**First, display the first 5 observations from <code style=\"color:steelblue\">base_df</code> just as reminder.**"
   ]
  },
  {
   "cell_type": "code",
   "execution_count": null,
   "metadata": {},
   "outputs": [],
   "source": [
    "# First 5 observations of base_df\n"
   ]
  },
  {
   "cell_type": "markdown",
   "metadata": {},
   "source": [
    "**Let's initialize a model pipeline for K-Means.**\n",
    "* Note that we can control the number of clusters using <code style=\"color:steelblue\">n_clusters=3</code>. This is the hyperparameter $k$.\n",
    "* We also set <code style=\"color:steelblue\">random_state=123</code> for replicable results. "
   ]
  },
  {
   "cell_type": "code",
   "execution_count": null,
   "metadata": {
    "collapsed": true
   },
   "outputs": [],
   "source": [
    "# K-Means model pipeline\n"
   ]
  },
  {
   "cell_type": "markdown",
   "metadata": {},
   "source": [
    "**Once we have the pipeline, fitting the model is just 1 line of code.**"
   ]
  },
  {
   "cell_type": "code",
   "execution_count": null,
   "metadata": {},
   "outputs": [],
   "source": [
    "# Fit K-Means pipeline\n"
   ]
  },
  {
   "cell_type": "markdown",
   "metadata": {},
   "source": [
    "**Let's save the clusters to our dataframe.**"
   ]
  },
  {
   "cell_type": "code",
   "execution_count": null,
   "metadata": {},
   "outputs": [],
   "source": [
    "# Save clusters to base_df\n",
    "\n",
    "\n",
    "# Display first 5 rows of base_df\n"
   ]
  },
  {
   "cell_type": "markdown",
   "metadata": {},
   "source": [
    "**To visualize these clusters, we can plot a scatterplot and color the points by cluster.**\n",
    "* Since it's impossible to visualize all of the features, we'll just pick 2.\n",
    "* We use the <code style=\"color:steelblue\">hue=</code> argument to color by cluster."
   ]
  },
  {
   "cell_type": "code",
   "execution_count": null,
   "metadata": {
    "scrolled": false
   },
   "outputs": [],
   "source": [
    "# Scatterplot, colored by cluster\n"
   ]
  },
  {
   "cell_type": "markdown",
   "metadata": {},
   "source": [
    "<p style=\"text-align:center; margin: 40px 0 40px 0; font-weight:bold\">\n",
    "<a href=\"#toc\">Back to Contents</a>\n",
    "</p>"
   ]
  },
  {
   "cell_type": "markdown",
   "metadata": {},
   "source": [
    "<span id=\"threshold\"></span>\n",
    "# 3. Threshold DF\n",
    "\n",
    "The second set of features we'll consider is **\"Threshold DF\"**. \n",
    "* This includes the purchase pattern features from our analytical base table.\n",
    "* This also includes the purchase counts for the 20 most popular items.\n",
    "\n",
    "We'll repeat the same steps as above.\n",
    "\n",
    "<br>\n",
    "**First, initialize a new model pipeline for K-Means.**\n",
    "* Set it to create 3 clusters.\n",
    "* Also set <code style=\"color:steelblue\">random_state=123</code> for replicable results. "
   ]
  },
  {
   "cell_type": "code",
   "execution_count": null,
   "metadata": {
    "collapsed": true
   },
   "outputs": [],
   "source": [
    "# K-Means model pipeline\n"
   ]
  },
  {
   "cell_type": "markdown",
   "metadata": {},
   "source": [
    "**Next, fit the K-Means model pipeline to <code style=\"color:steelblue\">threshold_df</code>.**"
   ]
  },
  {
   "cell_type": "code",
   "execution_count": null,
   "metadata": {},
   "outputs": [],
   "source": [
    "# Fit K-Means pipeline\n"
   ]
  },
  {
   "cell_type": "markdown",
   "metadata": {},
   "source": [
    "**Save the clusters to <code style=\"color:steelblue\">threshold_df</code>.**"
   ]
  },
  {
   "cell_type": "code",
   "execution_count": null,
   "metadata": {},
   "outputs": [],
   "source": [
    "# Save clusters to threshold_df\n",
    "\n",
    "\n",
    "# Display first 5 rows of threshold_df\n"
   ]
  },
  {
   "cell_type": "markdown",
   "metadata": {},
   "source": [
    "If you scroll to the right, you'll see the assigned clusters.\n",
    "\n",
    "<br>\n",
    "**To visualize these clusters, plot a scatterplot and color the points by cluster.**\n",
    "* Use the same 2 features as in the scatterplot above so that you can visually contrast the plots.\n",
    "* Use the <code style=\"color:steelblue\">hue=</code> argument to color by cluster."
   ]
  },
  {
   "cell_type": "code",
   "execution_count": null,
   "metadata": {},
   "outputs": [],
   "source": [
    "# Scatterplot, colored by cluster\n"
   ]
  },
  {
   "cell_type": "markdown",
   "metadata": {},
   "source": [
    "<p style=\"text-align:center; margin: 40px 0 40px 0; font-weight:bold\">\n",
    "<a href=\"#toc\">Back to Contents</a>\n",
    "</p>"
   ]
  },
  {
   "cell_type": "markdown",
   "metadata": {},
   "source": [
    "<span id=\"pca\"></span>\n",
    "# 4. PCA DF\n",
    "\n",
    "The last set of features we'll consider is **\"PCA DF\"**. \n",
    "* This includes the purchase pattern features from our analytical base table.\n",
    "* This also includes the first 125 principal component features from the item data.\n",
    "\n",
    "We'll repeat the same steps as above.\n",
    "\n",
    "<br>"
   ]
  },
  {
   "cell_type": "markdown",
   "metadata": {},
   "source": [
    "**First, initialize a new model pipeline for K-Means.**\n",
    "* Set it to create 3 clusters.\n",
    "* Also set <code style=\"color:steelblue\">random_state=123</code> for replicable results. "
   ]
  },
  {
   "cell_type": "code",
   "execution_count": null,
   "metadata": {
    "collapsed": true
   },
   "outputs": [],
   "source": [
    "# K-Means model pipeline\n"
   ]
  },
  {
   "cell_type": "markdown",
   "metadata": {},
   "source": [
    "**Next, fit the K-Means model pipeline to <code style=\"color:steelblue\">pca_df</code>.**"
   ]
  },
  {
   "cell_type": "code",
   "execution_count": null,
   "metadata": {},
   "outputs": [],
   "source": [
    "# Fit K-Means pipeline\n"
   ]
  },
  {
   "cell_type": "markdown",
   "metadata": {},
   "source": [
    "**Save the clusters to <code style=\"color:steelblue\">pca_df</code>.**"
   ]
  },
  {
   "cell_type": "code",
   "execution_count": null,
   "metadata": {},
   "outputs": [],
   "source": [
    "# Save clusters to pca_df\n",
    "\n",
    "\n",
    "# Display first 5 rows of pca_df\n"
   ]
  },
  {
   "cell_type": "markdown",
   "metadata": {},
   "source": [
    "Again, if you scroll ALLLLLLL the way to the right, you'll see the assigned clusters.\n",
    "\n",
    "<br>\n",
    "**To visualize these clusters, plot a scatterplot and color the points by cluster.**\n",
    "* Use the same 2 features as in the scatterplot above so that you can visually contrast the plots.\n",
    "* Use the <code style=\"color:steelblue\">hue=</code> argument to color by cluster."
   ]
  },
  {
   "cell_type": "code",
   "execution_count": null,
   "metadata": {},
   "outputs": [],
   "source": [
    "# Scatterplot, colored by cluster\n"
   ]
  },
  {
   "cell_type": "markdown",
   "metadata": {},
   "source": [
    "<p style=\"text-align:center; margin: 40px 0 40px 0; font-weight:bold\">\n",
    "<a href=\"#toc\">Back to Contents</a>\n",
    "</p>"
   ]
  },
  {
   "cell_type": "markdown",
   "metadata": {},
   "source": [
    "<span id=\"comparison\"></span>\n",
    "# 5. Model comparison\n",
    "\n",
    "Each of those 3 dataframes have the same indices:"
   ]
  },
  {
   "cell_type": "code",
   "execution_count": null,
   "metadata": {},
   "outputs": [],
   "source": [
    "# Check all indices are identical\n"
   ]
  },
  {
   "cell_type": "markdown",
   "metadata": {},
   "source": [
    "**Let's import the adjusted Rand index from Scikit-Learn.**"
   ]
  },
  {
   "cell_type": "code",
   "execution_count": null,
   "metadata": {},
   "outputs": [],
   "source": [
    "# Adjusted Rand index\n"
   ]
  },
  {
   "cell_type": "markdown",
   "metadata": {},
   "source": [
    "**We can see the adjusted Rand index between <code style=\"color:steelblue\">base_df.cluster</code> and <code style=\"color:steelblue\">threshold_df.cluster</code> like so:**"
   ]
  },
  {
   "cell_type": "code",
   "execution_count": null,
   "metadata": {},
   "outputs": [],
   "source": [
    "# Similary between base_df.cluster and threshold_df.cluster\n"
   ]
  },
  {
   "cell_type": "markdown",
   "metadata": {},
   "source": [
    "Furthermore, the adjusted Rand index is **symmetric**, which means you can pass in the clusters in any order."
   ]
  },
  {
   "cell_type": "code",
   "execution_count": null,
   "metadata": {},
   "outputs": [],
   "source": [
    "# Similary between threshold_df.cluster and base_df.cluster\n"
   ]
  },
  {
   "cell_type": "markdown",
   "metadata": {},
   "source": [
    "**Finally, display the adjusted Rand index between <code style=\"color:steelblue\">base_df.cluster</code> and <code style=\"color:steelblue\">pca_df.cluster</code>.**\n",
    "* Is it higher or lower than the one between <code style=\"color:steelblue\">base_df.cluster</code> and <code style=\"color:steelblue\">threshold_df.cluster</code>?\n",
    "* Which clusters are more like the ones created from the the base dataframe?"
   ]
  },
  {
   "cell_type": "code",
   "execution_count": null,
   "metadata": {},
   "outputs": [],
   "source": [
    "# Similary between base_df.cluster and pca_df.cluster\n"
   ]
  },
  {
   "cell_type": "markdown",
   "metadata": {},
   "source": [
    "<p style=\"text-align:center; margin: 40px 0 40px 0; font-weight:bold\">\n",
    "<a href=\"#toc\">Back to Contents</a>\n",
    "</p>"
   ]
  },
  {
   "cell_type": "markdown",
   "metadata": {
    "collapsed": true
   },
   "source": [
    "<br>\n",
    "## Next Steps\n",
    "\n",
    "Congratulations for making it through Project 4's Cluster Analysis!\n",
    "\n",
    "As a reminder, here are a few things you did in this module:\n",
    "* You brought together all of the customer-level features you've created in this project.\n",
    "* You learned the inuitition behind the K-Means algorithm.\n",
    "* You applied the K-Means algorithm to 3 different feature sets.\n",
    "* And you compared the consensus (or lack thereof) of the clusters created.\n",
    "\n",
    "This marks the end of Project 4!\n",
    "\n",
    "<p style=\"text-align:center; margin: 40px 0 40px 0; font-weight:bold\">\n",
    "<a href=\"#toc\">Back to Contents</a>\n",
    "</p>"
   ]
  }
 ],
 "metadata": {
  "kernelspec": {
   "display_name": "Python 3",
   "language": "python",
   "name": "python3"
  },
  "language_info": {
   "codemirror_mode": {
    "name": "ipython",
    "version": 3
   },
   "file_extension": ".py",
   "mimetype": "text/x-python",
   "name": "python",
   "nbconvert_exporter": "python",
   "pygments_lexer": "ipython3",
   "version": "3.6.5"
  }
 },
 "nbformat": 4,
 "nbformat_minor": 1
}
