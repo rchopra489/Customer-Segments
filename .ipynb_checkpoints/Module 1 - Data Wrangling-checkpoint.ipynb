{
 "cells": [
  {
   "cell_type": "markdown",
   "metadata": {},
   "source": [
    "<h1 style=\"font-size:42px; text-align:center; margin-bottom:30px;\"><span style=\"color:SteelBlue\">Module 1:</span> Data Wrangling</h1>\n",
    "<hr>\n",
    "\n",
    "Welcome to <span style=\"color:royalblue\">Module 1: Data Wrangling</span>!\n",
    "\n",
    "Often, the most interesting machine learning applications require you to **wrangle** your data first.\n",
    "\n",
    "For this project, we've been given a **transaction-level** dataset. In other words, each observation in the raw dataset is for a single transaction - one item, one customer, one purchase.\n",
    "\n",
    "Therefore, to get a **customer-level** data (since we want to build clusters for customers, not transactions) we need to **aggregate transactions by customer** and **engineer customer-level features**.\n",
    "\n",
    "* This step blends together exploratory analysis, data cleaning, and feature engineering.\n",
    "* Here, feature engineering comes from aggregating the transaction-level data.\n",
    "* As you'll see, you still have a lot of room for creativity in this step!\n",
    "\n",
    "<br><hr id=\"toc\">\n",
    "\n",
    "### In this module...\n",
    "\n",
    "In this module, we'll cover:\n",
    "1. [Transaction-level exploration](#exploration)\n",
    "2. [Transaction-level cleaning](#cleaning)\n",
    "3. [Customer-level feature engineering](#customer-level)\n",
    "4. [Intermediary levels](#intermediary-levels)\n",
    "5. [Joining together the ABT](#joining)\n",
    "\n",
    "\n",
    "<br><hr>"
   ]
  },
  {
   "cell_type": "markdown",
   "metadata": {},
   "source": [
    "### First, let's import libraries and load the dataset.\n",
    "\n",
    "First, import libraries that you'll need."
   ]
  },
  {
   "cell_type": "code",
   "execution_count": null,
   "metadata": {},
   "outputs": [],
   "source": [
    "# print_function for compatibility with Python 3\n",
    "\n",
    "\n",
    "# NumPy for numerical computing\n",
    "\n",
    "\n",
    "# Pandas for DataFrames\n",
    "\n",
    "\n",
    "\n",
    "# Matplotlib for visualization\n",
    "\n",
    "# display plots in the notebook\n",
    "\n",
    "\n",
    "# Seaborn for easier visualization\n",
    "\n"
   ]
  },
  {
   "cell_type": "markdown",
   "metadata": {},
   "source": [
    "Next, let's import the dataset.\n",
    "* The file path is <code style=\"color:crimson\">'project_files/int_online_tx.csv'</code>"
   ]
  },
  {
   "cell_type": "code",
   "execution_count": null,
   "metadata": {},
   "outputs": [],
   "source": [
    "# Load international online transactions data from CSV\n"
   ]
  },
  {
   "cell_type": "markdown",
   "metadata": {},
   "source": [
    "Now we're ready to jump into wrangling the data!"
   ]
  },
  {
   "cell_type": "markdown",
   "metadata": {},
   "source": [
    "<span id=\"exploration\"></span>\n",
    "# 1. Transaction-level exploration\n",
    "\n",
    "Even though we eventually want customer-level data, it's still helpful to do some basic exploratory analysis at the transaction level. \n",
    "\n",
    "<br>\n",
    "**First, display the shape of the dataset.**"
   ]
  },
  {
   "cell_type": "code",
   "execution_count": null,
   "metadata": {},
   "outputs": [],
   "source": [
    "# Dataframe dimensions\n"
   ]
  },
  {
   "cell_type": "markdown",
   "metadata": {},
   "source": [
    "**Next, display the first 10 observations from the dataset.**"
   ]
  },
  {
   "cell_type": "code",
   "execution_count": null,
   "metadata": {},
   "outputs": [],
   "source": [
    "# First 10 rows of data\n"
   ]
  },
  {
   "cell_type": "markdown",
   "metadata": {},
   "source": [
    "**Finally, display the distribution of transactions by country.**"
   ]
  },
  {
   "cell_type": "code",
   "execution_count": null,
   "metadata": {
    "scrolled": false
   },
   "outputs": [],
   "source": [
    "# Make figsize 6x7\n",
    "\n",
    "\n",
    "# Bar plot by country\n"
   ]
  },
  {
   "cell_type": "markdown",
   "metadata": {},
   "source": [
    "<div style=\"text-align:center; margin: 40px 0 40px 0; font-weight:bold\">\n",
    "<a href=\"#toc\">Back to Contents</a>\n",
    "</div>"
   ]
  },
  {
   "cell_type": "markdown",
   "metadata": {},
   "source": [
    "<span id=\"cleaning\"></span>\n",
    "# 2. Transaction-level cleaning\n",
    "\n",
    "Before we aggregate to the customer level, we need to tidy up a few things at the transaction level.\n",
    "\n",
    "<br>\n",
    "**Display the number of missing observations for each feature.**"
   ]
  },
  {
   "cell_type": "code",
   "execution_count": null,
   "metadata": {},
   "outputs": [],
   "source": [
    "# Missing data by feature\n"
   ]
  },
  {
   "cell_type": "markdown",
   "metadata": {},
   "source": [
    "**Drop observations with missing customer ID's.**"
   ]
  },
  {
   "cell_type": "code",
   "execution_count": null,
   "metadata": {
    "collapsed": true
   },
   "outputs": [],
   "source": [
    "# Only keep transactions with CustomerID's\n"
   ]
  },
  {
   "cell_type": "markdown",
   "metadata": {},
   "source": [
    "**Next, just for clarity, convert the CustomerID's from floats into integers.**\n",
    "* This is technically not required, but it's good practice.\n",
    "* ID's should be saved as strings or integers just so they don't get mixed up with other numeric features.\n",
    "* Then, display the first 5 CustomerID's in the transaction dataset just to confirm."
   ]
  },
  {
   "cell_type": "code",
   "execution_count": null,
   "metadata": {},
   "outputs": [],
   "source": [
    "# Convert customer ID's into integers\n",
    "\n",
    "\n",
    "# Display first 5 CustomerID's in the transaction dataset\n",
    "\n"
   ]
  },
  {
   "cell_type": "markdown",
   "metadata": {},
   "source": [
    "**Create a <code style=\"color:steelblue\">'Sales'</code> interaction feature.**\n",
    "* Then, display the first 5 Sales values in the transaction dataset just to confirm."
   ]
  },
  {
   "cell_type": "code",
   "execution_count": null,
   "metadata": {},
   "outputs": [],
   "source": [
    "# Create 'Sales' interaction feature\n",
    "\n",
    "\n",
    "# Display first 5 Sales values in the transaction dataset\n",
    "\n"
   ]
  },
  {
   "cell_type": "markdown",
   "metadata": {},
   "source": [
    "**Before moving on, save your cleaned transaction-level data as <code style=\"color:crimson\">cleaned_transactions.csv</code>.**\n",
    "* We'll return to this in <span style=\"color:royalblue\">Modules 2 and 3</span> to create the features for individual items.\n",
    "* Remember to set <code style=\"color:steelblue\">index=None</code> to save only the data and not the auto-generated index."
   ]
  },
  {
   "cell_type": "code",
   "execution_count": null,
   "metadata": {
    "collapsed": true
   },
   "outputs": [],
   "source": [
    "# Save cleaned transaction-level data\n"
   ]
  },
  {
   "cell_type": "markdown",
   "metadata": {},
   "source": [
    "<div style=\"text-align:center; margin: 40px 0 40px 0; font-weight:bold\">\n",
    "<a href=\"#toc\">Back to Contents</a>\n",
    "</div>"
   ]
  },
  {
   "cell_type": "markdown",
   "metadata": {},
   "source": [
    "<span id=\"customer-level\"></span>\n",
    "# 3. Customer-level feature engineering\n",
    "\n",
    "Now that we have a cleaned transaction-level dataset, it's time to **roll it up** to the customer level, which we'll feed into our machine learning algorithms later.\n",
    "\n",
    "<br>\n",
    "**First, we'll aggegrate invoice data by customer. We'll engineer 1 feature:**\n",
    "* <code style=\"color:steelblue\">'total_transactions'</code> - the total number of unique transactions for each customer."
   ]
  },
  {
   "cell_type": "code",
   "execution_count": null,
   "metadata": {},
   "outputs": [],
   "source": [
    "# Aggegrate invoice data\n",
    "\n",
    "\n",
    "# Display invoice data for first 5 customers\n"
   ]
  },
  {
   "cell_type": "markdown",
   "metadata": {},
   "source": [
    "**Next, using the same technique, aggregate product data by customer. Engineer 2 features:**\n",
    "* <code style=\"color:steelblue\">'total_products'</code> - the total number of products purchased by each customer (not the unit Quantity within each product!).\n",
    "* <code style=\"color:steelblue\">'total_unique_products'</code> - the number of unique products purchased by each customer.\n",
    "* **Hint:** you'll want to use the Item ID column (i.e. StockCode) after your groupby!\n",
    "* Let's name it <code style=\"color:crimson\">product_data</code>."
   ]
  },
  {
   "cell_type": "code",
   "execution_count": null,
   "metadata": {},
   "outputs": [],
   "source": [
    "# Aggregate product data\n",
    "\n",
    "\n",
    "# Display product data for first 5 customers\n"
   ]
  },
  {
   "cell_type": "markdown",
   "metadata": {},
   "source": [
    "**Finally, aggregate sales data by customer. Engineer 2 features:**\n",
    "* <code style=\"color:steelblue\">'total_sales'</code> - the total sales for each customer.\n",
    "* <code style=\"color:steelblue\">'avg_product_value'</code> - the average value of the products purchased by the customer (not the UnitPrice!).\n",
    "* **Hint:** you'll want to use the Sales column after your groupby!\n",
    "* Let's name it <code style=\"color:crimson\">sales_data</code>."
   ]
  },
  {
   "cell_type": "code",
   "execution_count": null,
   "metadata": {},
   "outputs": [],
   "source": [
    "# Roll up sales data\n",
    "\n",
    "\n",
    "# Display sales data for first 5 customers\n"
   ]
  },
  {
   "cell_type": "markdown",
   "metadata": {},
   "source": [
    "<div style=\"text-align:center; margin: 40px 0 40px 0; font-weight:bold\">\n",
    "<a href=\"#toc\">Back to Contents</a>\n",
    "</div>"
   ]
  },
  {
   "cell_type": "markdown",
   "metadata": {},
   "source": [
    "<span id=\"intermediary-levels\"></span>\n",
    "# 4. Intermediary levels\n",
    "\n",
    "You won't always be able to easily roll up to customer-level directly... Sometimes, it will be easier to create intermediary levels first.\n",
    "\n",
    "<br>\n",
    "**Let's first aggregate cart data at the \"cart-level.\"**\n",
    "* We'll group by <code style=\"color:steelblue\">'CustomerID'</code> AND by <code style=\"color:steelblue\">'InvoiceID'</code>. Remember, we're treating each invoice as a \"cart.\"\n",
    "* Then, we'll calculate <code style=\"color:steelblue\">'cart_value'</code> by taking the sum of the Sales column. This is the total sales by invoice (i.e. cart).\n",
    "* Finally, we'll call <code style=\"color:steelblue\">.reset_index()</code> to turn CustomerID and InvoiceID back into regular columns so we can perform another aggregation."
   ]
  },
  {
   "cell_type": "code",
   "execution_count": null,
   "metadata": {},
   "outputs": [],
   "source": [
    "# Aggregate cart-level data (i.e. invoice-level)\n",
    "\n",
    "\n",
    "# Reset index\n",
    "\n",
    "\n",
    "# Display cart data for first 5 CARTS\n"
   ]
  },
  {
   "cell_type": "markdown",
   "metadata": {},
   "source": [
    "**Aggregate cart data by customer. Engineer 3 features:**\n",
    "* <code style=\"color:steelblue\">'avg_cart_value'</code> - average cart value by customer.\n",
    "* <code style=\"color:steelblue\">'min_cart_value'</code> - minimum cart value by customer.\n",
    "* <code style=\"color:steelblue\">'max_cart_value'</code> - maximum cart value by customer.\n",
    "* Let's name it <code style=\"color:crimson\">agg_cart_data</code>."
   ]
  },
  {
   "cell_type": "code",
   "execution_count": null,
   "metadata": {},
   "outputs": [],
   "source": [
    "# Aggregate cart data (at customer-level)\n",
    "\n",
    "\n",
    "\n",
    "# Display cart data for first 5 CUSTOMERS\n"
   ]
  },
  {
   "cell_type": "markdown",
   "metadata": {},
   "source": [
    "<div style=\"text-align:center; margin: 40px 0 40px 0; font-weight:bold\">\n",
    "<a href=\"#toc\">Back to Contents</a>\n",
    "</div>"
   ]
  },
  {
   "cell_type": "markdown",
   "metadata": {},
   "source": [
    "<span id=\"joining\"></span>\n",
    "# 5. Joining together the ABT\n",
    "\n",
    "Great, now you have multiple dataframes that each contain customer-level features. \n",
    "\n",
    "<br>\n",
    "**Let's join the various customer-level datasets together with the <code style=\"color:steelblue\">.join()</code> function.**\n",
    "* Just pick one of the customer-level dataframes and join it to a list of the others.\n",
    "* By default, it will join the dataframes on their <code style=\"color:steelblue\">index</code>... In this case, it will join by CustomerID, which is exactly what we want.\n",
    "* You can read more about the <code style=\"color:steelblue\">.join()</code> function in the <a href=\"http://pandas.pydata.org/pandas-docs/stable/generated/pandas.DataFrame.join.html\" target=\"_blank\">documentation</a>."
   ]
  },
  {
   "cell_type": "code",
   "execution_count": null,
   "metadata": {},
   "outputs": [],
   "source": [
    "# Join together customer-level ABT\n",
    "\n",
    "\n",
    "# Display customer-level data for first 5 customers\n"
   ]
  },
  {
   "cell_type": "markdown",
   "metadata": {},
   "source": [
    "**Finally, let's save <code style=\"color:crimson\">customer_df</code> as our analytical base table to use later.**\n",
    "* **Important:** We will not set <code style=\"color:steelblue\">index=None</code> because we want to keep the CustomerID's as the index (this will be important when we get to Module 4)."
   ]
  },
  {
   "cell_type": "code",
   "execution_count": null,
   "metadata": {
    "collapsed": true
   },
   "outputs": [],
   "source": [
    "# Save analytical base table\n"
   ]
  },
  {
   "cell_type": "markdown",
   "metadata": {},
   "source": [
    "<div style=\"text-align:center; margin: 40px 0 40px 0; font-weight:bold\">\n",
    "<a href=\"#toc\">Back to Contents</a>\n",
    "</div>"
   ]
  },
  {
   "cell_type": "markdown",
   "metadata": {},
   "source": [
    "<br>\n",
    "## Next Steps\n",
    "\n",
    "Congratulations for making it through Project 4's Data Wrangling!\n",
    "\n",
    "As a reminder, here are a few things you did in this module:\n",
    "* You explored and cleaned the transaction-level dataset.\n",
    "* You then rolled it up to the customer level, aggregating new features along the way.\n",
    "* You also saw how intermediary groupby's can help you create otherwise tricky features.\n",
    "* And you joined all of your customer-level datasets together into one analytical base table.\n",
    "\n",
    "In the next module, <span style=\"color:royalblue\">Module 2: Dimensionality Reduction</span>, we'll see how trying to include features for individual items can raise new challenges (i.e. The Curse of Dimensionality). We'll also introduce you to the first of 2 recommended solutions: thresholding.\n",
    "\n",
    "<div style=\"text-align:center; margin: 40px 0 40px 0; font-weight:bold\">\n",
    "<a href=\"#toc\">Back to Contents</a>\n",
    "</div>"
   ]
  }
 ],
 "metadata": {
  "anaconda-cloud": {},
  "kernelspec": {
   "display_name": "Python 3",
   "language": "python",
   "name": "python3"
  },
  "language_info": {
   "codemirror_mode": {
    "name": "ipython",
    "version": 3
   },
   "file_extension": ".py",
   "mimetype": "text/x-python",
   "name": "python",
   "nbconvert_exporter": "python",
   "pygments_lexer": "ipython3",
   "version": "3.6.5"
  }
 },
 "nbformat": 4,
 "nbformat_minor": 1
}
